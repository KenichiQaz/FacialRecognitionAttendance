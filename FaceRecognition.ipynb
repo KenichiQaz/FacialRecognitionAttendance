{
  "cells": [
    {
      "cell_type": "markdown",
      "metadata": {
        "id": "view-in-github",
        "colab_type": "text"
      },
      "source": [
        "<a href=\"https://colab.research.google.com/github/KenichiQaz/FacialRecognitionAttendance/blob/main/FaceRecognition.ipynb\" target=\"_parent\"><img src=\"https://colab.research.google.com/assets/colab-badge.svg\" alt=\"Open In Colab\"/></a>"
      ]
    },
    {
      "cell_type": "markdown",
      "metadata": {
        "id": "ZQLx--mbJiff"
      },
      "source": [
        "# Fastai - Facial recognition with transformations"
      ]
    },
    {
      "cell_type": "markdown",
      "metadata": {
        "id": "KE8krF3-7RyE"
      },
      "source": [
        "## Getting data"
      ]
    },
    {
      "cell_type": "code",
      "execution_count": null,
      "metadata": {
        "id": "jHQ1Sx12UkDO"
      },
      "outputs": [],
      "source": [
        "from google.colab import drive\n",
        "drive.mount('/content/drive')"
      ]
    },
    {
      "cell_type": "code",
      "execution_count": null,
      "metadata": {
        "id": "V4hCtI0PC1Dw"
      },
      "outputs": [],
      "source": [
        "# copy the images from a google drive folder and unzip for use\n",
        "!unzip '/content/drive/MyDrive/Colab Notebooks/data.zip' -d '/content/'"
      ]
    },
    {
      "cell_type": "markdown",
      "metadata": {
        "id": "iABC43HZ63eR"
      },
      "source": [
        "## Building the model"
      ]
    },
    {
      "cell_type": "code",
      "execution_count": null,
      "metadata": {
        "id": "xWSUlrfqZ9it"
      },
      "outputs": [],
      "source": [
        "# Import fast.ai for use in task\n",
        "! [ -e /content ] && pip install -Uqq fastbook\n",
        "import fastbook\n",
        "fastbook.setup_book()\n",
        "from fastbook import *\n",
        "from fastai.vision.widgets import *"
      ]
    },
    {
      "cell_type": "code",
      "execution_count": null,
      "metadata": {
        "id": "aSEbS0XYbxHt"
      },
      "outputs": [],
      "source": [
        "# Set the path for the image data\n",
        "path='/content/data'\n",
        "\n",
        "# Get path and remove corrupted images\n",
        "TestImages = get_image_files(path)\n",
        "verify = verify_images(TestImages)\n",
        "\n",
        "# Open an image to see data\n",
        "im=Image.open(TestImages[25])\n",
        "with im: display(im.to_thumb(128,128))"
      ]
    },
    {
      "cell_type": "code",
      "execution_count": null,
      "metadata": {
        "id": "h7irYFa5fwLc"
      },
      "outputs": [],
      "source": [
        "# Build datablock for training and validation\n",
        "faces=DataBlock(\n",
        "    blocks=(ImageBlock,CategoryBlock),\n",
        "    get_items=get_image_files,\n",
        "    splitter=RandomSplitter(valid_pct=0.2,seed=42),\n",
        "    get_y=parent_label,\n",
        "    item_tfms=Resize(128,ResizeMethod.Pad,pad_mode='zeros')\n",
        ")"
      ]
    },
    {
      "cell_type": "code",
      "execution_count": null,
      "metadata": {
        "id": "ffkpbsyJhmpy"
      },
      "outputs": [],
      "source": [
        "# Load images from folders\n",
        "print(path)\n",
        "dls=faces.dataloaders(path)\n",
        "\n",
        "# After training validation split show some of the images\n",
        "dls.train.show_batch(max_n=4,nrows=1)"
      ]
    },
    {
      "cell_type": "code",
      "execution_count": null,
      "metadata": {
        "id": "EPUCh1KgigPP"
      },
      "outputs": [],
      "source": [
        "# Transform images and load them into training data too\n",
        "faces=faces.new(item_tfms=Resize(128),batch_tfms=aug_transforms(mult=2))\n",
        "dls=faces.dataloaders(path)\n",
        "dls.train.show_batch(max_n=8,nrows=2,unique=True)"
      ]
    },
    {
      "cell_type": "code",
      "execution_count": null,
      "metadata": {
        "id": "Lx0ENPZBi2Sp"
      },
      "outputs": [],
      "source": [
        "# Transform images and load them into training data too\n",
        "faces==faces.new(item_tfms=RandomResizedCrop(224,min_scale=0.5),\n",
        "                 batch_tfms=aug_transforms()\n",
        "                 )\n",
        "dls=faces.dataloaders(path)\n",
        "dls.train.show_batch(max_n=8,nrows=2,unique=True)"
      ]
    },
    {
      "cell_type": "code",
      "execution_count": null,
      "metadata": {
        "id": "xks0D3UMkfgC"
      },
      "outputs": [],
      "source": [
        "# Show some of the validation set\n",
        "dls.valid.show_batch(max_n=8,nrows=2,unique=True)"
      ]
    },
    {
      "cell_type": "code",
      "execution_count": null,
      "metadata": {
        "id": "X75PAA-_rzCF"
      },
      "outputs": [],
      "source": [
        "# Select the model and finetune it on the new data\n",
        "learn=vision_learner(dls, resnet50, metrics=accuracy)"
      ]
    },
    {
      "cell_type": "code",
      "source": [
        "#learn.lr_find()"
      ],
      "metadata": {
        "id": "mhrp8XSLOMWB"
      },
      "execution_count": null,
      "outputs": []
    },
    {
      "cell_type": "code",
      "source": [
        "learn.fine_tune(15)"
      ],
      "metadata": {
        "id": "b5kMx9dexW6B"
      },
      "execution_count": null,
      "outputs": []
    },
    {
      "cell_type": "code",
      "execution_count": null,
      "metadata": {
        "id": "pj3PxGo_kZQA"
      },
      "outputs": [],
      "source": [
        "# Display confusion matrix for debugging\n",
        "# interp=ClassificationInterpretation.from_learner(learn)\n",
        "# interp.plot_confusion_matrix(figsize=(10,10))"
      ]
    },
    {
      "cell_type": "code",
      "execution_count": null,
      "metadata": {
        "id": "rrxCjthWEfTD"
      },
      "outputs": [],
      "source": [
        "# Export the model\n",
        "learn.export()"
      ]
    },
    {
      "cell_type": "markdown",
      "metadata": {
        "id": "K8ZhTo0W7ASH"
      },
      "source": [
        "## Load model and predict name"
      ]
    },
    {
      "cell_type": "code",
      "execution_count": null,
      "metadata": {
        "id": "t7xmi6aptjXN"
      },
      "outputs": [],
      "source": [
        "# Confirm model exists\n",
        "path = Path(\"/content/drive/MyDrive/Colab Notebooks/\")\n",
        "path.ls(file_exts='.pkl')"
      ]
    },
    {
      "cell_type": "code",
      "execution_count": null,
      "metadata": {
        "id": "P6WVRDHzuRhp"
      },
      "outputs": [],
      "source": [
        "# Load model for inferrence\n",
        "learn_inf=load_learner(path/'face_rec.pkl')"
      ]
    },
    {
      "cell_type": "code",
      "execution_count": null,
      "metadata": {
        "id": "YbDtjABC3afV"
      },
      "outputs": [],
      "source": [
        "# Create upload button to test on unseen image\n",
        "btn_upload = widgets.FileUpload()\n",
        "btn_upload"
      ]
    },
    {
      "cell_type": "code",
      "execution_count": null,
      "metadata": {
        "id": "e6SAM59z3afY"
      },
      "outputs": [],
      "source": [
        "# Show uploaded image\n",
        "img = PILImage.create(btn_upload.data[-1])\n",
        "\n",
        "out_pl = widgets.Output()\n",
        "out_pl.clear_output()\n",
        "with out_pl: display(img.to_thumb(128,128))\n",
        "out_pl"
      ]
    },
    {
      "cell_type": "code",
      "execution_count": null,
      "metadata": {
        "id": "Bih4TD3h3afb"
      },
      "outputs": [],
      "source": [
        "# Take uploaded image and predict the name if the certainty is below 90% label it as unknown\n",
        "pred,pred_idx,probs = learn_inf.predict(img)\n",
        "\n",
        "lbl_pred = widgets.Label()\n",
        "if probs[pred_idx] > 0.90:\n",
        "  lbl_pred.value = f'Prediction: {pred};      Probability: {probs[pred_idx]:.04f}'\n",
        "else:\n",
        "  lbl_pred.value = f'Unknown.      Prediction: {pred};      Probability: {probs[pred_idx]:.04f}'\n",
        "lbl_pred"
      ]
    },
    {
      "cell_type": "markdown",
      "metadata": {
        "id": "cPSHtx2K6yFi"
      },
      "source": [
        "## Mark attendance in a sheet (not working in colab)\n",
        "\n",
        "\n"
      ]
    },
    {
      "cell_type": "code",
      "execution_count": null,
      "metadata": {
        "id": "7alGpqkC7No2"
      },
      "outputs": [],
      "source": [
        "import os\n",
        "import cv2\n",
        "\n",
        "# Confirm model exists\n",
        "path = Path()\n",
        "path.ls(file_exts='.pkl')\n",
        "\n",
        "# Load model for inferrence\n",
        "learn_inf=load_learner(path/'export.pkl')\n",
        "\n",
        "def MarkAttendence(name):\n",
        "    with open('attendence.csv', 'r+') as f:\n",
        "        myDatalist = f.readlines()\n",
        "        nameList = []\n",
        "\n",
        "        for line in myDatalist:\n",
        "            entry = line.split(',')\n",
        "            nameList.append(entry[0])\n",
        "\n",
        "        if name not in nameList:\n",
        "            now = datetime.now()\n",
        "            timestr = now.strftime('%Y/%m/%d %H:%M:%S')\n",
        "            f.writelines(f'\\n{name}, {timestr}')\n",
        "\n",
        "\n",
        "vid = cv2.VideoCapture(0)\n",
        "while True:\n",
        "    success, frame = vid.read()\n",
        "    Smaller_frames = cv2.resize(frame, (0, 0), None, 0.25, 0.25)\n",
        "\n",
        "    pred, pred_idx, probs = learn_inf.predict(Smaller_frames)\n",
        "\n",
        "    if probs[pred_idx] > 0.90:\n",
        "        MarkAttendence(pred)\n",
        "        cv2.imwrite(\n",
        "            pred+\"/\"+str(datetime.now().strftime(\"%Y%m%d-%H%M%S\")) + \".jpg\", Smaller_frames)\n",
        "    else:\n",
        "        cv2.imwrite(\"unknown/\"+pred+\"_\" +\n",
        "                    str(datetime.now().strftime(\"%Y%m%d-%H%M%S\")) + \".jpg\", Smaller_frames)\n"
      ]
    }
  ],
  "metadata": {
    "colab": {
      "collapsed_sections": [
        "KE8krF3-7RyE",
        "iABC43HZ63eR",
        "K8ZhTo0W7ASH"
      ],
      "provenance": [],
      "include_colab_link": true
    },
    "kernelspec": {
      "display_name": "Python 3",
      "name": "python3"
    },
    "language_info": {
      "name": "python"
    }
  },
  "nbformat": 4,
  "nbformat_minor": 0
}